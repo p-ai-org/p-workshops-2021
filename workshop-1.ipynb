{
 "cells": [
  {
   "cell_type": "markdown",
   "id": "55ef1de1",
   "metadata": {},
   "source": [
    "# P-ai AI/ML Workshop: Session 1\n",
    "\n",
    "Welcome to P-ai's first session of the AI/ML workshop series! Today we'll learn about\n",
    "- What *is* machine learning? How is it different from \"AI\" or \"Deep Learning\"?\n",
    "- An overview of a typical machine learning problem and solution\n",
    "- The coding environment\n",
    "- Python crash course\n",
    "<img src=\"https://images.squarespace-cdn.com/content/5d5aca05ce74150001a5af3e/1580018583262-NKE94RECI46GRULKS152/Screen+Shot+2019-12-05+at+11.18.53+AM.png?content-type=image%2Fpng\" width=\"200px\">"
   ]
  },
  {
   "cell_type": "markdown",
   "id": "4984d017",
   "metadata": {},
   "source": [
    "## 1. AI, GI, ML, DL– what do they mean?\n",
    "\n",
    "- AI (Artificial Intelligence): Something artificially created that appears to behave intelligently\n",
    "- GI (General Intelligence): Refers to an AI that can learn anything*, like a human\n",
    "- ML (Machine Learning) and DL (Deep Learning)... we'll see!\n",
    "\n",
    "\\* *Well, not anything. Humans aren't very good at reading QR codes, for example*\n",
    "\n",
    "According to the Oxford Dictionary, machine learning is:\n",
    "\n",
    ">\"The use and development of computer systems that are able to **learn** and adapt **without following explicit instructions**, by using **algorithms and statistical models** to analyze and **draw inferences from patterns in data**.\"\n",
    "\n",
    "A machine learning *algorithm* is an algorithm (designed by a human) that can discover patterns within data *on its own*. Let's put ourselves in the shoes of a machine learning model for a moment:\n",
    "\n",
    "| x  | y  |\n",
    "-----|-----\n",
    "| 2  | 5  |\n",
    "| 21 | 43 |\n",
    "| 36 | 73 |\n",
    "| 7  | 15 |\n",
    "| 16 | ?  |\n",
    "\n",
    "Even though you weren't told what the relationship is between $x$ and $y$, you were able to analyze the data and find a mapping $f$ from $x$ to $y$, which allowed you to predict $f(16)$. For certain tasks, this comes somewhat naturally to humans, but computers need to be programmed to know *how* to look for patterns.  \n",
    "Let's briefly cover arguably the simplest algorithm that falls under the umbrella of machine learning: linear regression- or, as you might be more familiar with it, line of best fit."
   ]
  },
  {
   "cell_type": "markdown",
   "id": "34485084",
   "metadata": {},
   "source": [
    "### Linear Regression\n",
    "\n",
    "<img src=\"https://imgs.xkcd.com/comics/linear_regression.png\" width=\"400px\">\n",
    "\n",
    "*Quick side note: an **algorithm** is a set of instructions for doing something, like a baking recipe or a flow chart. We humans use algorithms sometimes (e.g. to calculate our GPA, or a strict morning routine), but most of the time we just \"intuit\" things. For example, noticing that a friend looks sad or seeing a red light. Computers can only follow algorithms, so finding algorithms to solve \"wishy-washy\" problems that humans are so great at is at the heart of machine learning.*\n",
    "\n",
    "**Linear regression** tries to find a **linear relationship** between X and y data. If we go back to our previous example of $x$ and $y$, this means that the model will try to find a line $\\hat{y} = mx + b$ such that $\\hat{y} \\approx y$, i.e. the model **fits** the data best.\n",
    "\n",
    "$$ \\hat{y} = mx + b $$\n",
    "\n",
    "Some questions this raises:\n",
    "\n",
    "> Which **parameters** does the model need to **learn**?\n",
    "\n",
    "In this case, the slope $m$ and y-intercept $b$.\n",
    "\n",
    "> How will the model find those parameters?\n",
    "\n",
    "We'll answer this in the a later session!\n",
    "\n",
    "> What does it mean for the model to **fit the data best**?\n",
    "\n",
    "We'll hold off on answering this question too, but it's worth thinking about. First, let's consider which parameters the model is trying to find in this case.\n",
    "\n",
    "Here's our training data again:\n",
    "\n",
    "| x  | y  |\n",
    "-----|-----\n",
    "| 2  | 5  |\n",
    "| 21 | 43 |\n",
    "| 36 | 73 |\n",
    "| 7  | 15 |\n",
    "\n",
    "> What values of $m$ and $b$ is the model trying to find?\n",
    "\n",
    "$m = 2$ and $b = 1$. This would make our model $\\hat{y} = 2x + 1$, which would fit our data perfectly. Then, using this model, we can make predictions, or **inferences**:\n",
    "\n",
    "$$ f(16) = 2(16) + 1 = 33 $$\n",
    "\n",
    "We glossed over **how** the model found those values, but we fit a linear regression model to our data, and used it to make an inference. The key takeaways are this:\n",
    "\n",
    "- Machine learning models learn relationships in data.\n",
    "- As the ML engineer, you choose the right model for your data.\n",
    "    - In this case, there was a perfectly linear relationship betwen $x$ and $y$, so linear regression is a good choice. If it were exponential, say, the linear regression model would fit the data poorly and make poor inferences.\n",
    "- The ML model has **trainable parameters**; that is, parameters that the model **learns on its own from the data**.\n",
    "    - In this case, there were two trainable parameters: $m$ and $b$.\n",
    "- The ML model follows an algorithm to find the parameters that **best fit** the data it's trained on.\n",
    "    - We'll learn exactly what that means in a later session!\n",
    "\n",
    "<img src=\"https://www.musictech.net/wp-content/uploads/2020/05/Radius-2-.jpg\" width=\"500px\">\n",
    "<div style=\"width: 100%; text-align: center; font-style: italic;\">Think of trainable parameters like knobs on a machine- some combination of values will be optimal, and the model follows an algorithm to find them</div>\n",
    "\n",
    "Finally, to clear up two similar-seeming terms:\n",
    "- A machine learning *algorithm* is an algorithm for learning patterns from data\n",
    "    - e.g. Linear Regression\n",
    "- A machine learning *model* is trained on data *using* an ML algorithm\n",
    "    - e.g. Our Linear Regression model $\\hat{y} = 2x + 1$\n",
    "    \n",
    "### The start of your ML demistification journey!\n",
    "\n",
    "<img src=\"https://miro.medium.com/max/1050/1*-bhLYOP-EahyDXPJvCPrhg.jpeg\" width=\"400px\">"
   ]
  },
  {
   "cell_type": "markdown",
   "id": "a7f1bd14",
   "metadata": {},
   "source": [
    "### So... what about Deep Learning?\n",
    "\n",
    "Deep Learning is a subset of Machine Learning, and is nearly synonymous with Neural Networks. We'll cover them in more detail in a later session, but suffice to say it's just another class of machine learning algorithms that have become very popular in recent years due to their ability to learn very complex patterns with (lots of) data. That being said, they're not sentient robots- like most machine learning algorithms, they're just very good function approximators.\n",
    "\n",
    "<img src=\"https://assets.website-files.com/5fb24a974499e90dae242d98/5fb24a974499e96f7b2431db_AI%20venn%20diagram.png\" width=\"500px\">"
   ]
  },
  {
   "cell_type": "markdown",
   "id": "7b6c07b0",
   "metadata": {},
   "source": [
    "## 2. A typical machine learning problem and solution\n",
    "\n",
    "Now's probably a good time to talk about which problems could use machine learning and which don't. Based on what you've learned so far, try to classify the following problems as `ML` or `not ML` problems.\n",
    "\n",
    "I want a computer to...\n",
    "1. calculate BMI from patients' weight and height\n",
    "2. predict forest fires from locational data (e.g. humidity, precipitation, season, etc.)\n",
    "3. translate between English and Spanish\n",
    "4. translate between English and Morse Code\n",
    "5. identify the genre of songs directly from the audio\n",
    "6. play tic-tac-toe\n",
    "7. estimate the price of a house given a picture of it\n",
    "\n",
    "```\n",
    "[!!!] ANSWERS BELOW [!!!]\n",
    "\n",
    "1. Not ML; BMI = mass / height^2\n",
    "2. ML; no precise algorithm to determine this but information in data might be able to predict forest fires\n",
    "3. ML; word-level translation is algorithmic, but not sentence-level translation\n",
    "4. Not ML; each letter can be directly converted to Morse and vice versa\n",
    "5. ML; complex relationships in audio features might suggest a genre, but there is no definite algorithm\n",
    "6. Bit of a trick question- not (necessarily) ML; there is a known optimal strategy for X and O\n",
    "7. ML; image features might suggest a price range but will likely require ML to extract\n",
    "```\n",
    "\n",
    "Note that it's not necessarily clear-cut in every situation. For example, if you want to find an optimal path from point A to point B (think Google Maps), there is an algorithm called **Dijkstra's Algorithm** that finds the least expensive path between two points given \"roads\" their respective \"costs\". That being said, in real life there are often dozens of other variables, like the time of day, day of the week, amount of traffic, weather, and construction. In these cases, an algorithm might be supplemented with ML algorithms.\n",
    "\n",
    "<img src=\"https://imgs.xkcd.com/comics/self_driving.png\" width=\"400px\">"
   ]
  },
  {
   "cell_type": "markdown",
   "id": "25a2f0e0",
   "metadata": {},
   "source": [
    "Okay, back to the original topic: a typical machine learning problem and solution. Here goes:\n",
    "\n",
    "**HIGH LEVEL**\n",
    "1. Have a problem\n",
    "2. Acquire data\n",
    "3. Train a machine learning model on said data\n",
    "4. Evaluate model and iterate on solution\n",
    "\n",
    "**MEDIUM LEVEL**\n",
    "1. Have a problem\n",
    "    1. Determine whether the problem even needs machine learning\n",
    "    2. If it's not a new problem, read up on what other people have tried\n",
    "2. Acquire data\n",
    "    1. Get as much data as you can pertaining to your problem\n",
    "    2. Explore and visualize your data to become most familiar with what your model will try to learn\n",
    "    3. Clean data (remove bad or useless data)\n",
    "    4. Process / feature engineer data (make as \"learnable\" as possible)\n",
    "3. Train a machine learning model on said data\n",
    "    1. Choose a domain of ML to try (e.g. classification, regression, reinforcement learning)\n",
    "    2. Choose a machine learning algorithm to use (or design your own!)\n",
    "    3. Train baseline model on data\n",
    "4. Evaluate model and iterate on solution\n",
    "    1. Check metrics e.g. accuracy, precision & recall, sensitivity & specificity\n",
    "    2. Tune hyperparameters\n",
    "    3. Improve data quality\n",
    "    4. Try other models / change model architecture\n",
    "    \n",
    "There are many details missing from this schematic, but it gives a sense of how these problems are typically approached. As we move forward, we'll refer back to this workflow!"
   ]
  },
  {
   "cell_type": "markdown",
   "id": "d9c93ad5",
   "metadata": {},
   "source": [
    "## 3. The coding environment\n",
    "\n",
    "<img src=\"https://external-preview.redd.it/x3_gxnFSyB9nhAfWu0k6OdiOXmRdyfsBnaODGM94NRw.jpg?auto=webp&s=f7d788cbb356acad0f118567c23fbf27d7867bd4\" width=\"500px\">\n",
    "\n",
    "One of the strongest aspects of Python is its rich library support, especially when it comes to machine learning. Some of the most popular libraries for ML include:\n",
    "\n",
    "- `numpy`: pretty much the go-to library for anything linear algebra related (i.e. vectors, matrices, etc.)\n",
    "- `scikit-learn`: a great library for non-deep learning machine algorithms like decision trees, logicistic regression, etc.\n",
    "- `tensorflow`: a very powerful library developed by Google for deep learning\n",
    "- `keras`: an API built on top of `tensorflow` that provides more user-friendly ways to build deep learning models\n",
    "\n",
    "When using Python, you first need to install these packages on your computer. There are a few ways you can do this- you can install them directly using `pip` (comes installed with Python), or a package manager like `conda`. We'll use `pip` because it's simpler and requires less overhead."
   ]
  },
  {
   "cell_type": "code",
   "execution_count": null,
   "id": "7f245ff5",
   "metadata": {},
   "outputs": [],
   "source": [
    "# The exclamation point is just to run shell commands in Jupyter Notebook\n",
    "# If running from your terminal, you don't need the !\n",
    "!pip install numpy"
   ]
  },
  {
   "cell_type": "markdown",
   "id": "a17196fd",
   "metadata": {},
   "source": [
    "Once a dependency is installed, you can import it directly into Python:"
   ]
  },
  {
   "cell_type": "code",
   "execution_count": null,
   "id": "71a8827b",
   "metadata": {},
   "outputs": [],
   "source": [
    "# Python lets you rename packages when you import them\n",
    "# Data scientists will make fun of you if you do not rename numpy to np\n",
    "import numpy as np\n",
    "\n",
    "np.zeros((3, 4), dtype=int)"
   ]
  },
  {
   "cell_type": "markdown",
   "id": "87dc05e0",
   "metadata": {},
   "source": [
    "We can really leverage the power of Python libraries by using the Keras API to build a deep learning model with just a few lines of code- don't worry about understanding it yet, it's just to show how powerful Keras and Tensorflow are (but you will by the end of the workshops!)"
   ]
  },
  {
   "cell_type": "code",
   "execution_count": null,
   "id": "beb8254c",
   "metadata": {
    "scrolled": true
   },
   "outputs": [],
   "source": [
    "!pip install tensorflow"
   ]
  },
  {
   "cell_type": "code",
   "execution_count": null,
   "id": "0b165f2c",
   "metadata": {},
   "outputs": [],
   "source": [
    "# Machine learning engineers will make fun of you if you do not rename tensorflow to tf\n",
    "from tensorflow.keras import models, layers"
   ]
  },
  {
   "cell_type": "code",
   "execution_count": null,
   "id": "0e2abe3a",
   "metadata": {},
   "outputs": [],
   "source": [
    "# Define model architecture\n",
    "model = models.Sequential()\n",
    "model.add(layers.InputLayer(input_shape=(10,)))\n",
    "model.add(layers.Dense(64))\n",
    "model.add(layers.Dropout(0.3))\n",
    "model.add(layers.Dense(32))\n",
    "model.add(layers.Dropout(0.3))\n",
    "model.add(layers.Dense(1, activation=\"sigmoid\"))\n",
    "# Print model summary\n",
    "model.summary()"
   ]
  },
  {
   "cell_type": "code",
   "execution_count": null,
   "id": "ea81115e",
   "metadata": {},
   "outputs": [],
   "source": [
    "# Compile model\n",
    "model.compile(loss=\"binary_crossentropy\", optimizer=\"adam\", metrics=[\"accuracy\"])"
   ]
  },
  {
   "cell_type": "markdown",
   "id": "5d34b1b2",
   "metadata": {},
   "source": [
    "And that's it!"
   ]
  },
  {
   "cell_type": "markdown",
   "id": "ec517760",
   "metadata": {},
   "source": [
    "You can install all these libraries directly onto your computer, but you might find that becomes a bit messy after a while. For future reference, you can create a **virtual environment** to keep all your dependencies for one project in the same place. It's not necessary, but I personally found it very convenient, even if I was saving the same dependencies to multiple locations. To learn more, check out the documentation for `venv` here: https://docs.python.org/3/tutorial/venv.html\n",
    "\n",
    "Now, for some FAQs about the Python development environment...\n",
    "\n",
    "> Which IDE (editor) should I use?\n",
    "\n",
    "If you're looking for a no-nonsense IDE for programming in general, VSCode is a great place to start. Other common options include Atom, PyCharm, and SublimeText.\n",
    "\n",
    "> I downloaded Python 3, but my computer is still running my Python files with Python 2 and causing errors. What's the deal?\n",
    "\n",
    "When you run a command like `python script.py`, your computer probably defaults to Python 2.x. You can explicitly use Python 3.x by running `python3 scripy.py` instead. Same goes for `pip`- you may need to explicitly use `pip3` instead of regular `pip` if you're not in a Python 3.x environment.\n",
    "\n",
    "> I'm getting an error when installing packages with pip / `import`ing libraries in Python. Why could that be?\n",
    "\n",
    "This is usually a mismatch between the version of Python you're using and the supported versions of the package you're installing. For example, the newest versions of most libraries don't support Python 2.x. To install a specific version of a library, you can run `pip install [library name]==[version]`.\n",
    "\n",
    "> What's up with the different import statements?\n",
    "\n",
    "I'll show you:"
   ]
  },
  {
   "cell_type": "code",
   "execution_count": null,
   "id": "f43bae08",
   "metadata": {},
   "outputs": [],
   "source": [
    "# Import the entire library\n",
    "import numpy as np\n",
    "\n",
    "# To use the function array(), we need to preface it with np.\n",
    "np.array([[1, 2], [3, 4]])"
   ]
  },
  {
   "cell_type": "code",
   "execution_count": null,
   "id": "bef02238",
   "metadata": {},
   "outputs": [],
   "source": [
    "# This doesn't work since ones() isn't defined\n",
    "array([[1, 2], [3, 4]])"
   ]
  },
  {
   "cell_type": "code",
   "execution_count": null,
   "id": "d64f2fff",
   "metadata": {},
   "outputs": [],
   "source": [
    "# Import a specific function or functions\n",
    "from numpy import array, dot\n",
    "\n",
    "# Since we imported array() and dot() into the namespace, we can call them directly\n",
    "arr1 = array([[1, 2], [3, 4]])\n",
    "arr2 = array([[5, 6], [7, 8]])\n",
    "dot(arr1, arr2)"
   ]
  },
  {
   "cell_type": "code",
   "execution_count": null,
   "id": "bf37b855",
   "metadata": {},
   "outputs": [],
   "source": [
    "# Import everything from a library\n",
    "from numpy import *\n",
    "\n",
    "# Wildcard imports can be confusing for this reason, since functions from imports look like user-defined functions\n",
    "ones(5)"
   ]
  },
  {
   "cell_type": "markdown",
   "id": "c657312f",
   "metadata": {},
   "source": [
    "Side note: you can save all your dependencies to a file by running this command:\n",
    "\n",
    "`pip freeze > requirements.txt`\n",
    "\n",
    "This saves all your `pip` dependencies to a file called `requirements.txt`. Then, other people can install all your dependencies *and their exact versions* with:\n",
    "\n",
    "`pip install -r requirements.txt`\n",
    "\n",
    "Nice!"
   ]
  },
  {
   "cell_type": "markdown",
   "id": "a31f974d",
   "metadata": {},
   "source": [
    "## 4. Python crash course\n"
   ]
  },
  {
   "cell_type": "markdown",
   "id": "370f0369",
   "metadata": {},
   "source": [
    "Code speaks louder than words:\n",
    "\n",
    "### Variables, numbers, and strings"
   ]
  },
  {
   "cell_type": "code",
   "execution_count": null,
   "id": "134aa966",
   "metadata": {},
   "outputs": [],
   "source": [
    "# x is a variable. I set its value to the number 5\n",
    "x = 12\n",
    "print(x)"
   ]
  },
  {
   "cell_type": "code",
   "execution_count": null,
   "id": "29a77126",
   "metadata": {},
   "outputs": [],
   "source": [
    "y = 5\n",
    "# Addition\n",
    "z = x + y\n",
    "print(z)"
   ]
  },
  {
   "cell_type": "code",
   "execution_count": null,
   "id": "8c452da0",
   "metadata": {},
   "outputs": [],
   "source": [
    "# Subtraction\n",
    "print(x - y)\n",
    "# Multiplication\n",
    "print(x * y)\n",
    "# Division\n",
    "print(x / y)\n",
    "# Integer division\n",
    "print(x // y)\n",
    "# Modulus operator (remainder function)\n",
    "print(x % y)\n",
    "# Exponentiation\n",
    "print(x ** y)"
   ]
  },
  {
   "cell_type": "code",
   "execution_count": null,
   "id": "dc217367",
   "metadata": {},
   "outputs": [],
   "source": [
    "# You can also change a variable's value in-place by using +=, -=, /=, etc.\n",
    "x = 10\n",
    "print(x)\n",
    "# Equivalent to x = x + 1\n",
    "x += 1\n",
    "print(x)"
   ]
  },
  {
   "cell_type": "code",
   "execution_count": null,
   "id": "7006787e",
   "metadata": {},
   "outputs": [],
   "source": [
    "# Strings are strings of characters, aka text\n",
    "# They are denoted with double quotes (\"\") or single quotes ('')\n",
    "string = \"I am a string\"\n",
    "print(string)"
   ]
  },
  {
   "cell_type": "code",
   "execution_count": null,
   "id": "4856e3de",
   "metadata": {},
   "outputs": [],
   "source": [
    "# There are plenty of operations you can do on strings, too\n",
    "# For example, this is concatenation\n",
    "string1 = \"Machine\"\n",
    "string2 = \"Learning\"\n",
    "print(string1 + \" \" + string2)"
   ]
  },
  {
   "cell_type": "markdown",
   "id": "e1059442",
   "metadata": {},
   "source": [
    "### Lists and indexing"
   ]
  },
  {
   "cell_type": "code",
   "execution_count": null,
   "id": "15d1cdaf",
   "metadata": {},
   "outputs": [],
   "source": [
    "# If you want to store a list of things, you can use... a list!\n",
    "# They're denoted with square brackets []\n",
    "\n",
    "list1 = [1, 2, 3]\n",
    "list2 = [\"one\", \"two\", \"three\"]\n",
    "\n",
    "# List concatenation\n",
    "print(list1 + list2)"
   ]
  },
  {
   "cell_type": "code",
   "execution_count": null,
   "id": "97566366",
   "metadata": {},
   "outputs": [],
   "source": [
    "# To get the length of a list, use len()\n",
    "lst = [\"there\", \"are\", \"four\", \"items\"]\n",
    "len(lst)"
   ]
  },
  {
   "cell_type": "code",
   "execution_count": null,
   "id": "2bb23842",
   "metadata": {},
   "outputs": [],
   "source": [
    "# You can also start with a list and add items with append()\n",
    "\n",
    "# Empty array\n",
    "lst = []\n",
    "\n",
    "lst.append(1)\n",
    "lst.append(2)\n",
    "lst.append(3)\n",
    "print(lst)"
   ]
  },
  {
   "cell_type": "markdown",
   "id": "e59b4fdf",
   "metadata": {},
   "source": [
    "There are other list functions that come in handy. For example, find the first index of a value in a list with `.index()`, or remove the first instance of a value with `.remove()`. Check out https://www.w3schools.com/python/python_ref_list.asp to see a complete list."
   ]
  },
  {
   "cell_type": "code",
   "execution_count": null,
   "id": "4c61e1c7",
   "metadata": {},
   "outputs": [],
   "source": [
    "# Items in lists can be accessed by their index\n",
    "# Like most languages, Python is 0-indexed. That means that the index of the first item is 0, the second is 1, etc.\n",
    "\n",
    "fibonacci = [1, 1, 2, 3, 5, 8, 13, 21]\n",
    "# Indexes:   0  1  2  3  4  5  6   7\n",
    "\n",
    "print(fibonacci[0])\n",
    "print(fibonacci[2])\n",
    "print(fibonacci[5])"
   ]
  },
  {
   "cell_type": "code",
   "execution_count": null,
   "id": "42878a77",
   "metadata": {},
   "outputs": [],
   "source": [
    "# Python also lets you get the last items in a list by using negative numbers as indexes\n",
    "\n",
    "# Last item\n",
    "print(fibonacci[-1])\n",
    "# Second to last item\n",
    "print(fibonacci[-2])"
   ]
  },
  {
   "cell_type": "code",
   "execution_count": null,
   "id": "09a7e366",
   "metadata": {},
   "outputs": [],
   "source": [
    "# You can also \"slice\" parts of a list using a colon (:)\n",
    "# The syntax is [a:b], where index a is included in the interval and index b is EXCLUDED\n",
    "\n",
    "months = [\"Jan\", \"Feb\", \"Mar\", \"Apr\", \"May\", \"Jun\", \"Jul\", \"Aug\", \"Sep\", \"Oct\", \"Nov\", \"Dec\"]\n",
    "# Indexes: 0      1      2      3      4      5      6      7      8      9      10     11\n",
    "\n",
    "# Month 2 up until but not including month 4\n",
    "print(months[2:4])"
   ]
  },
  {
   "cell_type": "code",
   "execution_count": null,
   "id": "7ea490ec",
   "metadata": {},
   "outputs": [],
   "source": [
    "# Month 5 up until the end\n",
    "print(months[5:])"
   ]
  },
  {
   "cell_type": "code",
   "execution_count": null,
   "id": "0a341c15",
   "metadata": {},
   "outputs": [],
   "source": [
    "# Month 0 up until but not including month 8\n",
    "print(months[:8])"
   ]
  },
  {
   "cell_type": "code",
   "execution_count": null,
   "id": "698681da",
   "metadata": {},
   "outputs": [],
   "source": [
    "# Month 3 up until but not including the last month\n",
    "print(months[3:-1])"
   ]
  },
  {
   "cell_type": "code",
   "execution_count": null,
   "id": "da3e6a46",
   "metadata": {},
   "outputs": [],
   "source": [
    "# You can also include a step size with another colon\n",
    "# Every other month from month 1 up to but not including month 9\n",
    "print(months[1:9:2])"
   ]
  },
  {
   "cell_type": "markdown",
   "id": "0f6aecbe",
   "metadata": {},
   "source": [
    "### Booleans and control flow"
   ]
  },
  {
   "cell_type": "code",
   "execution_count": null,
   "id": "1c59dd37",
   "metadata": {},
   "outputs": [],
   "source": [
    "# Boolean values can be either True or False\n",
    "\n",
    "darkModeIsGood = True\n",
    "machineLearningIsMagic = False\n",
    "\n",
    "print(machineLearningIsMagic)"
   ]
  },
  {
   "cell_type": "code",
   "execution_count": null,
   "id": "f3aab95b",
   "metadata": {},
   "outputs": [],
   "source": [
    "# You can work with booleans using boolean operators like not, and, and or\n",
    "\n",
    "print(not True)\n",
    "print(True or False)\n",
    "print(False and True)"
   ]
  },
  {
   "cell_type": "code",
   "execution_count": null,
   "id": "eb462b32",
   "metadata": {},
   "outputs": [],
   "source": [
    "# You can use if statements to control the flow of logic\n",
    "\n",
    "condition = True\n",
    "\n",
    "if condition: \n",
    "    print(\"The condition was true (1)\")\n",
    "    \n",
    "condition = False\n",
    "\n",
    "if condition:\n",
    "    print(\"The condition was true (2)\")"
   ]
  },
  {
   "cell_type": "markdown",
   "id": "5880456a",
   "metadata": {},
   "source": [
    "Notice how in Python, a colon at the end of a conditional opens up a \"code block\", which is represented by an indentation. Everything in that indentation level will be run if the condition is true."
   ]
  },
  {
   "cell_type": "code",
   "execution_count": null,
   "id": "40dfc642",
   "metadata": {},
   "outputs": [],
   "source": [
    "condition_1 = True\n",
    "condition_2 = False\n",
    "\n",
    "if condition_1:\n",
    "    print(\" Run\")\n",
    "    print(\" everything\")\n",
    "    print(\" in\")\n",
    "    print(\" here\")\n",
    "    if not condition_2:\n",
    "        print(\"  Nested conditional!\")\n",
    "        \n",
    "print(\"This will run anyway\")"
   ]
  },
  {
   "cell_type": "markdown",
   "id": "17ff4a45",
   "metadata": {},
   "source": [
    "We can get more creative with our conditionals. Any operation or function that returns a boolean (or something that can be interpreted as a boolean) can be used as a conditional. Some common operations include:\n",
    "- `==`\n",
    "    - Check if two values are equal. Note the difference; `=` is for assignment, `==` is for comparing and returning a boolean\n",
    "- `!=`\n",
    "    - Determine if two values are not equal to each other\n",
    "- `<`, `>`, `<=`, `>=`\n",
    "    - Less than, greater than, less than or equal to, greater than or equal to\n",
    "- `in`\n",
    "    - Determine if a value is in a collection of some kind"
   ]
  },
  {
   "cell_type": "code",
   "execution_count": null,
   "id": "49ce0482",
   "metadata": {},
   "outputs": [],
   "source": [
    "print(5 == 7)\n",
    "print(5 == \"5\")\n",
    "print(5 == 5)\n",
    "print(5 != 7)\n",
    "print(7 > 4)"
   ]
  },
  {
   "cell_type": "code",
   "execution_count": null,
   "id": "a9c0c937",
   "metadata": {},
   "outputs": [],
   "source": [
    "# Second set of parentheses aren't necessary, just added for clarity\n",
    "print(1 == 2 or (not 1 == 1))"
   ]
  },
  {
   "cell_type": "code",
   "execution_count": null,
   "id": "c18459c8",
   "metadata": {},
   "outputs": [],
   "source": [
    "print(5 in [1, 2, 3])\n",
    "print(2 in [1, 2, 3])\n",
    "print(\"lions\" in [\"lions\", \"tigers\", \"bears\"])"
   ]
  },
  {
   "cell_type": "code",
   "execution_count": null,
   "id": "937e6e51",
   "metadata": {},
   "outputs": [],
   "source": [
    "x = 10\n",
    "\n",
    "if x % 2 == 0:\n",
    "    print(x, \"is even!\")"
   ]
  },
  {
   "cell_type": "markdown",
   "id": "ee1a6fdf",
   "metadata": {},
   "source": [
    "We can use `elif` (short for \"else if\") and `else` to get even more elaborate with our control flow:"
   ]
  },
  {
   "cell_type": "code",
   "execution_count": null,
   "id": "5932f014",
   "metadata": {},
   "outputs": [],
   "source": [
    "classStartTime = 9.5\n",
    "\n",
    "print(\"Probability of showing up on time:\", end=\" \")\n",
    "if classStartTime < 9:\n",
    "    print(\"No chance\")\n",
    "elif classStartTime < 10:\n",
    "    print(\"Unlikely, but possible\")\n",
    "elif classStartTime < 11:\n",
    "    print(\"I'll have to set my alarm, but I'll probably be there\")\n",
    "else:\n",
    "    print(\"Perfect\")\n",
    "    \n",
    "print(\"Computation complete\")"
   ]
  },
  {
   "cell_type": "markdown",
   "id": "6d942883",
   "metadata": {},
   "source": [
    "Using `elif` and `else` ensures that the code logic only enters **one** conditional. For example, even though `classStartTime` is less than both 10 and 11, it only enters the first block and then exits.\n",
    "\n",
    "To repeat the same code multiple times, we can use `while` and `for` loops."
   ]
  },
  {
   "cell_type": "code",
   "execution_count": null,
   "id": "a0571e3f",
   "metadata": {},
   "outputs": [],
   "source": [
    "x = 5\n",
    "# Continues running code block while conditional is true\n",
    "while x >= 0:\n",
    "    print(x)\n",
    "    x -= 1"
   ]
  },
  {
   "cell_type": "markdown",
   "id": "c5880d50",
   "metadata": {},
   "source": [
    "Be careful to avoid infinite loops; for example, this code will run forever (until something stops it):\n",
    "\n",
    "```\n",
    "x = 5\n",
    "while x >= 0:\n",
    "    print(x)\n",
    "```\n",
    "\n",
    "`for` loops are one of the most useful things you can know in Python. This is how they usually look:\n",
    "\n",
    "```\n",
    "for <item> in <iterable>:\n",
    "    <do stuff with item>\n",
    "```\n",
    "\n",
    "Where `iterable` is something that can be *iterated* over, like a list."
   ]
  },
  {
   "cell_type": "code",
   "execution_count": null,
   "id": "3e721db1",
   "metadata": {},
   "outputs": [],
   "source": [
    "print(months)\n",
    "for m in months:\n",
    "    # On every iteration, Python sets the variable m to the next item in months\n",
    "    print(m)"
   ]
  },
  {
   "cell_type": "code",
   "execution_count": null,
   "id": "e2c670b6",
   "metadata": {},
   "outputs": [],
   "source": [
    "for m in months:\n",
    "    print(f\"Is the letter 'a' in the month {m}?\", end=\" \")\n",
    "    if 'a' in m.lower():\n",
    "        print(\"Yes!\")\n",
    "    else:\n",
    "        print(\"No!\")"
   ]
  },
  {
   "cell_type": "code",
   "execution_count": null,
   "id": "a9cbeb32",
   "metadata": {},
   "outputs": [],
   "source": [
    "# A common way to iterate through numbers is to use the range() function\n",
    "# It returns an iterable that starts and ends at indexes you choose\n",
    "\n",
    "# Default start index is 0\n",
    "# Ranges from 0 to 4\n",
    "for i in range(5):\n",
    "    print(i)\n",
    "    \n",
    "print(\"\")\n",
    "\n",
    "# Ranges from 5 to 9\n",
    "for i in range(5, 10):\n",
    "    print(i)\n",
    "    \n",
    "print(\"\")\n",
    "\n",
    "# From 0 to 9 with step length 2\n",
    "for i in range(0, 10, 2):\n",
    "    print(i)"
   ]
  },
  {
   "cell_type": "markdown",
   "id": "56e6fe6f",
   "metadata": {},
   "source": [
    "### Functions\n",
    "\n",
    "We've already encountered a few functions:\n",
    "- `print(...)`\n",
    "- `string.lower()`\n",
    "- `range(...)`\n",
    "- `list.append(...)`\n",
    "- `len(...)`\n",
    "\n",
    "As well as a few of numpy functions:\n",
    "- `numpy.zeros(...)`\n",
    "- `numpy.ones(...)`\n",
    "- `numpy.array(...)`\n",
    "- `numpy.dot(...)`\n",
    "\n",
    "Functions take in input(s), and return output(s). Here's how you define one:"
   ]
  },
  {
   "cell_type": "code",
   "execution_count": null,
   "id": "d4da260f",
   "metadata": {},
   "outputs": [],
   "source": [
    "def add(a, b):\n",
    "    summation = a + b\n",
    "    return summation\n",
    "\n",
    "# `def` is the keyword to define a new function\n",
    "# The function name comes next, then the parameters / arguments it takes and a colon to open up a code block\n",
    "# The keyword `return` returns a value\n",
    "\n",
    "print(add(3, 5))"
   ]
  },
  {
   "cell_type": "code",
   "execution_count": null,
   "id": "0c3bfe86",
   "metadata": {},
   "outputs": [],
   "source": [
    "# You can also return multiple values\n",
    "def addAndSubtract(a, b):\n",
    "    return a + b, a - b\n",
    "\n",
    "# Returns a `tuple`\n",
    "print(addAndSubtract(5, 10))\n",
    "\n",
    "# \"Unpacking\" multiples values from a tuple\n",
    "addResult, subtractResult = addAndSubtract(5, 10)\n",
    "print(addResult)\n",
    "print(subtractResult)"
   ]
  },
  {
   "cell_type": "code",
   "execution_count": null,
   "id": "fcfe2f1b",
   "metadata": {},
   "outputs": [],
   "source": [
    "# You can also set default values for arguments\n",
    "def power(base, power=2):\n",
    "    return base ** power\n",
    "\n",
    "# Just give base, power defaults to 2\n",
    "print(power(4))\n",
    "\n",
    "# Give base and power\n",
    "print(power(4, power=3))\n",
    "\n",
    "# Explicitly list arguments\n",
    "print(power(base=4, power=3))\n",
    "\n",
    "# When being explicit, order doesn't matter\n",
    "print(power(power=3, base=4))"
   ]
  },
  {
   "cell_type": "markdown",
   "id": "6cdc3321",
   "metadata": {},
   "source": [
    "Let's write a function together! It'll take in a list and a value. It'll search for the value in the list; if it finds the value in the list, it'll return the index of the value's first appearance. If the value isn't in the list, it will return `-1`.\n",
    "\n",
    "e.g.\n",
    "```\n",
    "search([1, 2, 3, 2], 1) => 0\n",
    "search([1, 2, 3, 2], 2) => 1\n",
    "search([1, 2, 3, 4], 5) => -1\n",
    "```"
   ]
  },
  {
   "cell_type": "code",
   "execution_count": null,
   "id": "1f3e88aa",
   "metadata": {},
   "outputs": [],
   "source": [
    "# Write code here!\n",
    "\n",
    "\n",
    "\n"
   ]
  },
  {
   "cell_type": "markdown",
   "id": "4069928c",
   "metadata": {},
   "source": [
    "Here's some solutions I came up with:"
   ]
  },
  {
   "cell_type": "code",
   "execution_count": null,
   "id": "410fd5d7",
   "metadata": {},
   "outputs": [],
   "source": [
    "def search_1(lst, val):\n",
    "    for i in range(len(lst)):\n",
    "        if lst[i] == val:\n",
    "            return i\n",
    "    return -1\n",
    "\n",
    "def search_2(lst, val):\n",
    "    i = 0\n",
    "    while i < len(lst):\n",
    "        if lst[i] == val:\n",
    "            return i\n",
    "        i += 1\n",
    "    return -1\n",
    "\n",
    "def search_3(lst, val):\n",
    "    for i, item in enumerate(lst):\n",
    "        if item == val:\n",
    "            return i\n",
    "    return -1\n",
    "\n",
    "def search_4(lst, val):\n",
    "    try:\n",
    "        return lst.index(val)\n",
    "    except:\n",
    "        return -1"
   ]
  },
  {
   "cell_type": "markdown",
   "id": "10a9a030",
   "metadata": {},
   "source": [
    "### List comprehensions\n",
    "\n",
    "List comprehensions are basically shorthand for `for` loops- they're not necessary to know, just helpful shorthand. This is what they look like:\n",
    "\n",
    "```\n",
    "[<expression> for <item> in <iterable>]\n",
    "```\n",
    "Here's some examples:"
   ]
  },
  {
   "cell_type": "code",
   "execution_count": null,
   "id": "fb67245d",
   "metadata": {},
   "outputs": [],
   "source": [
    "[x*2 for x in range(5)]"
   ]
  },
  {
   "cell_type": "code",
   "execution_count": null,
   "id": "1416327b",
   "metadata": {},
   "outputs": [],
   "source": [
    "[month.upper() for month in months]"
   ]
  },
  {
   "cell_type": "code",
   "execution_count": null,
   "id": "83bf35f3",
   "metadata": {},
   "outputs": [],
   "source": [
    "['a' in month.lower() for month in months]"
   ]
  },
  {
   "cell_type": "markdown",
   "id": "3f37891c",
   "metadata": {},
   "source": [
    "You can also add an additional `if` clause, which filters elements from the `iterable` based on whether they meet the conditional."
   ]
  },
  {
   "cell_type": "code",
   "execution_count": null,
   "id": "dbfca607",
   "metadata": {},
   "outputs": [],
   "source": [
    "[month for month in months if 'a' in month.lower()]"
   ]
  },
  {
   "cell_type": "code",
   "execution_count": null,
   "id": "7128e39c",
   "metadata": {},
   "outputs": [],
   "source": [
    "# // is integer division; e.g. 4 // 2 = 2, 5 // 2 = 2, 1 // 2 = 0\n",
    "[x // 2 for x in range(10) if x % 2 == 0]"
   ]
  },
  {
   "cell_type": "markdown",
   "id": "7b1f4015",
   "metadata": {},
   "source": [
    "### Tying it all together"
   ]
  },
  {
   "cell_type": "markdown",
   "id": "aaf2878a",
   "metadata": {},
   "source": [
    "Write the following functions (arguments written in `monospace`):\n",
    "- A function that returns the numbers in list `lst` that are divisible by `k`\n",
    "    - Remember that a % b is the remainder function\n",
    "- A function that returns the elements in list `lst` that have a vowel in them (excluding y)\n",
    "    - A string is almost like a list of characters. So, you can iterate over each char in a string (e.g. `for char in string:`) or check if a string is in another string (e.g. `'a' in 'can' ==> True`)\n",
    "- A function that determines if `n` is a prime number\n",
    "    - If you want to use the squareroot function (not necessary), you can get it from `import math`, and then call `math.sqrt()`"
   ]
  },
  {
   "cell_type": "code",
   "execution_count": null,
   "id": "4d34b1c6",
   "metadata": {},
   "outputs": [],
   "source": [
    "'''Write function 1 here!'''\n",
    "def itemsDivisibleByK(lst, k):\n",
    "    # Replace this; pass just means \"do nothing\"\n",
    "    pass\n",
    "\n"
   ]
  },
  {
   "cell_type": "code",
   "execution_count": null,
   "id": "af17276a",
   "metadata": {},
   "outputs": [],
   "source": [
    "'''Test function 1'''\n",
    "# Should be [0, 3, 6, 9]\n",
    "itemsDivisibleByK([0, 1, 2, 3, 4, 5, 6, 7, 8, 9], 3)"
   ]
  },
  {
   "cell_type": "code",
   "execution_count": null,
   "id": "a7f79907",
   "metadata": {},
   "outputs": [],
   "source": [
    "'''Write function 2 here!'''\n",
    "def elementsWithVowels(lst):\n",
    "    pass\n",
    "\n"
   ]
  },
  {
   "cell_type": "code",
   "execution_count": null,
   "id": "908220d8",
   "metadata": {},
   "outputs": [],
   "source": [
    "'''Test function 2'''\n",
    "# Should be [\"machine\", \"learning\", \"def\"]\n",
    "elementsWithVowels([\"machine\", \"learning\", \"bcd\", \"def\", \"xyz\"])"
   ]
  },
  {
   "cell_type": "code",
   "execution_count": null,
   "id": "85aefeb2",
   "metadata": {},
   "outputs": [],
   "source": [
    "'''Write function 3 here!'''\n",
    "def isPrime(n):\n",
    "    pass\n",
    "\n"
   ]
  },
  {
   "cell_type": "code",
   "execution_count": null,
   "id": "8c2dd072",
   "metadata": {},
   "outputs": [],
   "source": [
    "'''Test function 3'''\n",
    "for i in range(2, 16):\n",
    "    print(i, isPrime(i))"
   ]
  },
  {
   "cell_type": "markdown",
   "id": "5a81447c",
   "metadata": {},
   "source": [
    "Here are my solutions, but they might look different from yours:"
   ]
  },
  {
   "cell_type": "code",
   "execution_count": null,
   "id": "248a88dd",
   "metadata": {},
   "outputs": [],
   "source": [
    "def itemsDivisibleByK(lst, k):\n",
    "    return [item for item in lst if item % k == 0]"
   ]
  },
  {
   "cell_type": "code",
   "execution_count": null,
   "id": "0575c8ac",
   "metadata": {},
   "outputs": [],
   "source": [
    "def containsVowel(string):\n",
    "    for char in string:\n",
    "        if char in 'aeiou':\n",
    "            return True\n",
    "    return False\n",
    "\n",
    "def elementsWithVowels(lst):\n",
    "    return [string for string in lst if containsVowel(string)]"
   ]
  },
  {
   "cell_type": "code",
   "execution_count": null,
   "id": "64cf6d6e",
   "metadata": {},
   "outputs": [],
   "source": [
    "import math\n",
    "def isPrime(n):\n",
    "    if n < 2:\n",
    "        return False\n",
    "    for i in range(2, int(math.sqrt(n)) + 1):\n",
    "        if n % i == 0:\n",
    "            return False\n",
    "    return True"
   ]
  }
 ],
 "metadata": {
  "kernelspec": {
   "display_name": "Python 3 (ipykernel)",
   "language": "python",
   "name": "python3"
  },
  "language_info": {
   "codemirror_mode": {
    "name": "ipython",
    "version": 3
   },
   "file_extension": ".py",
   "mimetype": "text/x-python",
   "name": "python",
   "nbconvert_exporter": "python",
   "pygments_lexer": "ipython3",
   "version": "3.8.6"
  }
 },
 "nbformat": 4,
 "nbformat_minor": 5
}
